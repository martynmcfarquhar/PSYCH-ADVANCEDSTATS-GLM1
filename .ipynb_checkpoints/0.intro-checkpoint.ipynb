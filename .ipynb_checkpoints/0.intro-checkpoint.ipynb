{
 "cells": [
  {
   "cell_type": "markdown",
   "id": "0aff9971-428c-4632-8dcc-2451ce81b45b",
   "metadata": {
    "tags": []
   },
   "source": [
    "# Introduction\n",
    "\n",
    "This lesson is about \n",
    "\n",
    "## Contents\n",
    "\n",
    "```{tableofcontents}\n",
    "```\n",
    "\n",
    "## About the Author\n",
    "\n",
    "```{figure} images/martyn.jpeg\n",
    "---\n",
    "scale: 15%\n",
    "align: right\n",
    "---\n",
    "```\n",
    "\n",
    "**Dr Martyn McFarquhar | PhD FHEA**\n",
    "\n",
    "Lecturer in Neuroimaging\n",
    "\n",
    "4.31 Booth Street East | Division of Psychology, Communication and Human Neuroscience | School of Health Sciences | The University of Manchester M13 9PL\n",
    "\n",
    "t: +44 (0)161 275 2688 | e: [martyn.mcfarquhar@manchester.ac.uk](mailto:martyn.mcfarquhar@manchester.ac.uk)"
   ]
  },
  {
   "cell_type": "code",
   "execution_count": null,
   "id": "0c8f2030-28a7-4a21-b24d-494a9a96b6b4",
   "metadata": {},
   "outputs": [],
   "source": []
  }
 ],
 "metadata": {
  "kernelspec": {
   "display_name": "R",
   "language": "R",
   "name": "ir"
  },
  "language_info": {
   "codemirror_mode": "r",
   "file_extension": ".r",
   "mimetype": "text/x-r-source",
   "name": "R",
   "pygments_lexer": "r",
   "version": "4.3.3"
  }
 },
 "nbformat": 4,
 "nbformat_minor": 5
}
