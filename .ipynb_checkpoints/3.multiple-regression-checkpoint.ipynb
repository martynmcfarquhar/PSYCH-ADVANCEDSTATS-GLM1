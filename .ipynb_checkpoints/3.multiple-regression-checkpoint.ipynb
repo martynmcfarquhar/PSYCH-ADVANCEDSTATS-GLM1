{
 "cells": [
  {
   "cell_type": "markdown",
   "id": "163a930f-0f59-4d39-a1d6-fe42ce664d4a",
   "metadata": {},
   "source": [
    "# Multiple Linear Regression\n",
    "\n"
   ]
  },
  {
   "cell_type": "code",
   "execution_count": null,
   "id": "63c1eb83-8584-40aa-bdc5-11b0c89ae24b",
   "metadata": {},
   "outputs": [],
   "source": []
  }
 ],
 "metadata": {
  "kernelspec": {
   "display_name": "R",
   "language": "R",
   "name": "ir"
  },
  "language_info": {
   "codemirror_mode": "r",
   "file_extension": ".r",
   "mimetype": "text/x-r-source",
   "name": "R",
   "pygments_lexer": "r",
   "version": "4.3.3"
  }
 },
 "nbformat": 4,
 "nbformat_minor": 5
}
