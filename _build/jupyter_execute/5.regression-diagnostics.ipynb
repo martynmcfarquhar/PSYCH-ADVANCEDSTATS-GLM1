{
 "cells": [
  {
   "cell_type": "markdown",
   "id": "f3a6c86b-9688-496b-b6a5-2624099e31dc",
   "metadata": {},
   "source": [
    "# Regression Diagnostics\n"
   ]
  },
  {
   "cell_type": "code",
   "execution_count": null,
   "id": "250e6c6e-70ed-43a2-9c20-e1af7489d3c5",
   "metadata": {},
   "outputs": [],
   "source": []
  }
 ],
 "metadata": {
  "kernelspec": {
   "display_name": "R",
   "language": "R",
   "name": "ir"
  },
  "language_info": {
   "codemirror_mode": "r",
   "file_extension": ".r",
   "mimetype": "text/x-r-source",
   "name": "R",
   "pygments_lexer": "r",
   "version": "4.3.3"
  }
 },
 "nbformat": 4,
 "nbformat_minor": 5
}