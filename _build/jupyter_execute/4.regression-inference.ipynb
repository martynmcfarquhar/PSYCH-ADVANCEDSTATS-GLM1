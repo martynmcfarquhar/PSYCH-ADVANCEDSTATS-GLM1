{
 "cells": [
  {
   "cell_type": "markdown",
   "id": "beb47bb5-928c-4d49-8129-94d630712424",
   "metadata": {},
   "source": [
    "# Inference from Regression Models\n",
    "\n",
    "## Regression Inference as Model Comparisons\n",
    "To start off with, we shall return to the simple linear regression output. Notice that there is an $F$-statistic given at the bottom for the model as a whole ... Notice that this $p$-value is *identical* to the $p$-value for the slope coefficient. What's more, the $F$-statistic value is actually equivalent to the *square* of the $t$-statistic. In other words, the test on whether the coefficient is 0 in the population and the test of the model against a model containing only an intercept are *the exact same test*.\n",
    "\n",
    "This is actually quite a deep insight and tells us something very interesting about the fact that we can conceptualise testing coefficients in a model as a *model comparison procedure*.\n",
    "\n",
    "### The `anova()` Function\n"
   ]
  },
  {
   "cell_type": "code",
   "execution_count": null,
   "id": "70842479-15e1-41d0-898b-a07173bced6b",
   "metadata": {},
   "outputs": [],
   "source": []
  }
 ],
 "metadata": {
  "kernelspec": {
   "display_name": "R",
   "language": "R",
   "name": "ir"
  },
  "language_info": {
   "codemirror_mode": "r",
   "file_extension": ".r",
   "mimetype": "text/x-r-source",
   "name": "R",
   "pygments_lexer": "r",
   "version": "4.3.3"
  }
 },
 "nbformat": 4,
 "nbformat_minor": 5
}