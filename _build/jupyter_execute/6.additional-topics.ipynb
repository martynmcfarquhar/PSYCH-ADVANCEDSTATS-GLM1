{
 "cells": [
  {
   "cell_type": "markdown",
   "id": "698f5c97-2739-4d03-8d5b-70c8dac3559f",
   "metadata": {},
   "source": [
    "# Additional Regression Topics\n",
    "\n",
    "## Standardisation\n",
    "\n",
    "## Variable Transformations\n"
   ]
  },
  {
   "cell_type": "code",
   "execution_count": null,
   "id": "187c3de4-a2af-42dc-ae4c-d7d966f16698",
   "metadata": {},
   "outputs": [],
   "source": []
  }
 ],
 "metadata": {
  "kernelspec": {
   "display_name": "R",
   "language": "R",
   "name": "ir"
  },
  "language_info": {
   "codemirror_mode": "r",
   "file_extension": ".r",
   "mimetype": "text/x-r-source",
   "name": "R",
   "pygments_lexer": "r",
   "version": "4.3.3"
  }
 },
 "nbformat": 4,
 "nbformat_minor": 5
}