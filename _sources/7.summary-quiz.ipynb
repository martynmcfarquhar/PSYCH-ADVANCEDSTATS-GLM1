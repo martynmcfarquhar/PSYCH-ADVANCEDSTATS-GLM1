{
 "cells": [
  {
   "cell_type": "markdown",
   "id": "698d8f5a-944d-449a-a9b1-3799ac19aff4",
   "metadata": {},
   "source": [
    "# Summary and Quiz\n",
    "\n",
    "## Quiz\n",
    "\n",
    "Use the quiz below to test your understanding from this lesson."
   ]
  },
  {
   "cell_type": "markdown",
   "id": "be9316a7-3c14-4282-8fd6-3a9418939e28",
   "metadata": {},
   "source": [
    "<iframe width=\"800px\" height=\"800px\" src=\"https://forms.office.com/Pages/ResponsePage.aspx?id=B8tSwU5hu0qBivA1z6kad9kpLkNdubNGu77CLsl9k_lUNktPNzBFRUVIVUVKWEE1VFRaRVBTUkZWWC4u&embed=true\" frameborder=\"0\" marginwidth=\"0\" marginheight=\"0\" style=\"border: none; max-width:100%; max-height:100vh\" allowfullscreen webkitallowfullscreen mozallowfullscreen msallowfullscreen> </iframe>"
   ]
  },
  {
   "cell_type": "code",
   "execution_count": null,
   "id": "c28d7232-f57a-4f23-ade3-75abfaf164d2",
   "metadata": {},
   "outputs": [],
   "source": []
  }
 ],
 "metadata": {
  "kernelspec": {
   "display_name": "R",
   "language": "R",
   "name": "ir"
  },
  "language_info": {
   "codemirror_mode": "r",
   "file_extension": ".r",
   "mimetype": "text/x-r-source",
   "name": "R",
   "pygments_lexer": "r",
   "version": "4.3.3"
  }
 },
 "nbformat": 4,
 "nbformat_minor": 5
}
